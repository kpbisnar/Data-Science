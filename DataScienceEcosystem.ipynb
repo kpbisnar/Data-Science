{
 "cells": [
  {
   "cell_type": "markdown",
   "id": "931833c5-60eb-4112-8e61-aa690845143f",
   "metadata": {
    "tags": []
   },
   "source": [
    "# Data Science Tools and Ecosystem"
   ]
  },
  {
   "cell_type": "markdown",
   "id": "f3964d9f-bd06-435e-b406-5377709a5f31",
   "metadata": {},
   "source": [
    "In this notebook, Data Science Tools and Ecosystem are summarized."
   ]
  },
  {
   "cell_type": "markdown",
   "id": "86fe819f-0df1-4662-a20c-f8abe30451ea",
   "metadata": {},
   "source": [
    "**Objectives:** \n",
    "- List popular languages for Data Science\n",
    "- List commonly used libraries used by Data Scientists\n",
    "- List three development environment open source tools used in Data Science\n",
    "- Create a code cell to multiply and add numbers\n",
    "- Create a code cell that converts minutes to hours\n",
    "\n"
   ]
  },
  {
   "cell_type": "markdown",
   "id": "b7d7b8c3-51ab-4131-8b51-f2efac44fdfc",
   "metadata": {},
   "source": [
    "Some of the popular languages that Data Scientists use are:\n",
    "1. Python\n",
    "2. R Language\n",
    "3. SQL"
   ]
  },
  {
   "cell_type": "markdown",
   "id": "be836200-5845-4d4b-88f5-05628440fc0f",
   "metadata": {},
   "source": [
    "Some of the commonly used libraries used by Data Scientists include:\n",
    "1. Pandas\n",
    "2. Matplotlib\n",
    "3. Scikit-learn\n",
    "4. Pytorch"
   ]
  },
  {
   "cell_type": "markdown",
   "id": "3efc9eb6-d4ee-4369-b195-6db91d06f7f9",
   "metadata": {
    "tags": []
   },
   "source": [
    "|Data Science Tools|\n",
    "|:----------------:|\n",
    "|Jupyter Notebook|\n",
    "|RStudio|\n",
    "|Git/Github|"
   ]
  },
  {
   "cell_type": "markdown",
   "id": "7bb5b860-8b48-45ce-84b2-f81cf088542c",
   "metadata": {
    "tags": []
   },
   "source": [
    "### Below are a few examples of evaluating arithmetic expressions in Python"
   ]
  },
  {
   "cell_type": "code",
   "execution_count": 1,
   "id": "2bb7e50a-110c-43a7-9854-62356d1514b1",
   "metadata": {
    "tags": []
   },
   "outputs": [
    {
     "data": {
      "text/plain": [
       "17"
      ]
     },
     "execution_count": 1,
     "metadata": {},
     "output_type": "execute_result"
    }
   ],
   "source": [
    "# This is a simple arithmetic expression to mutiply then add integers\n",
    "(3*4)+5"
   ]
  },
  {
   "cell_type": "code",
   "execution_count": 2,
   "id": "c35aef7c-0667-4bec-9ac3-c3831c8e83c3",
   "metadata": {
    "tags": []
   },
   "outputs": [
    {
     "data": {
      "text/plain": [
       "3.3333333333333335"
      ]
     },
     "execution_count": 2,
     "metadata": {},
     "output_type": "execute_result"
    }
   ],
   "source": [
    "# This will convert 200 minutes to hours by dividing by 60\n",
    "200/60"
   ]
  },
  {
   "cell_type": "markdown",
   "id": "fb60331a-c6e3-492b-87f2-eb3ee64ac155",
   "metadata": {
    "tags": []
   },
   "source": [
    "## Author\n",
    "Kent Benedict P. Bisnar"
   ]
  }
 ],
 "metadata": {
  "kernelspec": {
   "display_name": "Python",
   "language": "python",
   "name": "conda-env-python-py"
  },
  "language_info": {
   "codemirror_mode": {
    "name": "ipython",
    "version": 3
   },
   "file_extension": ".py",
   "mimetype": "text/x-python",
   "name": "python",
   "nbconvert_exporter": "python",
   "pygments_lexer": "ipython3",
   "version": "3.7.12"
  }
 },
 "nbformat": 4,
 "nbformat_minor": 5
}
